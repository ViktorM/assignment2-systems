{
 "cells": [
  {
   "cell_type": "code",
   "execution_count": 3,
   "metadata": {},
   "outputs": [],
   "source": [
    "import torch\n",
    "import torch.nn as nn\n",
    "from einops import rearrange, einsum\n",
    "\n",
    "\n",
    "def softmax(x: torch.Tensor, dim: int) -> torch.Tensor:\n",
    "    x_max, _ = torch.max(x, dim=dim, keepdim=True)\n",
    "    return torch.exp(x - x_max) / torch.sum(torch.exp(x - x_max), dim=dim, keepdim=True)\n",
    "\n",
    "def Swish(x: torch.Tensor) -> torch.Tensor:\n",
    "    # Swish(x) = x * sigmoid(x)\n",
    "    return x * torch.sigmoid(x)\n",
    "\n",
    "def scaled_dot_product_attention(Q: torch.Tensor, K: torch.Tensor, V: torch.Tensor, mask: torch.Tensor) -> torch.Tensor:\n",
    "    '''\n",
    "    Args:\n",
    "        Q: (batch, seq_len, d_k)\n",
    "        K: (batch, seq_len, d_k)\n",
    "        V: (batch, seq_len, d_v)\n",
    "        mask: (batch, seq_len, seq_len) - optional mask, 1 for valid positions, 0 for masked ones\n",
    "    Returns:\n",
    "        Output tensor: (batch, seq_len, d_v)\n",
    "    '''\n",
    "\n",
    "    d_k = Q.size(-1)\n",
    "    qk = einsum(Q, K, '... queries d_k, ... keys d_k -> ... queries keys')\n",
    "    if mask is not None:\n",
    "        qk = qk.masked_fill(mask == 0, float('-inf'))\n",
    "\n",
    "    attn = softmax(qk / d_k ** 0.5, dim=-1)\n",
    "    output = einsum(attn, V, '... queries keys, ... keys d_v -> ... queries d_v')\n",
    "\n",
    "    return output"
   ]
  },
  {
   "cell_type": "code",
   "execution_count": 4,
   "metadata": {},
   "outputs": [
    {
     "name": "stdout",
     "output_type": "stream",
     "text": [
      "tensor(10.0001)\n",
      "tensor(9.9531, dtype=torch.float16)\n",
      "tensor(10.0021)\n",
      "tensor(10.0021)\n"
     ]
    }
   ],
   "source": [
    "class FlashAttentionFunc(torch.autograd.Function):\n",
    "    @staticmethod\n",
    "    def forward(ctx, x, weight, grad_out):\n",
    "        ctx.save_for_backward(x, weight, grad_out)\n",
    "        return x @ weight.T\n",
    "\n",
    "    @staticmethod\n",
    "    def backward(ctx, grad_out):\n",
    "        x, weight, grad_out = ctx.saved_tensors\n",
    "        grad_x = grad_out @ weight\n",
    "        grad_weight = grad_out.T @ x\n",
    "        return grad_x, grad_weight, None\n",
    "\n"
   ]
  },
  {
   "cell_type": "code",
   "execution_count": null,
   "metadata": {},
   "outputs": [],
   "source": []
  }
 ],
 "metadata": {
  "kernelspec": {
   "display_name": "clone312",
   "language": "python",
   "name": "python3"
  },
  "language_info": {
   "codemirror_mode": {
    "name": "ipython",
    "version": 3
   },
   "file_extension": ".py",
   "mimetype": "text/x-python",
   "name": "python",
   "nbconvert_exporter": "python",
   "pygments_lexer": "ipython3",
   "version": "3.12.5"
  }
 },
 "nbformat": 4,
 "nbformat_minor": 2
}
